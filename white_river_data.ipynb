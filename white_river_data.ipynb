{
 "cells": [
  {
   "cell_type": "code",
   "execution_count": 14,
   "id": "ed57e712-b48b-4d66-81d5-aecf9c31a3b2",
   "metadata": {},
   "outputs": [
    {
     "data": {
      "text/html": [
       "<script type=\"esms-options\">{\"shimMode\": true}</script><style>*[data-root-id],\n",
       "*[data-root-id] > * {\n",
       "  box-sizing: border-box;\n",
       "  font-family: var(--jp-ui-font-family);\n",
       "  font-size: var(--jp-ui-font-size1);\n",
       "  color: var(--vscode-editor-foreground, var(--jp-ui-font-color1));\n",
       "}\n",
       "\n",
       "/* Override VSCode background color */\n",
       ".cell-output-ipywidget-background:has(\n",
       "    > .cell-output-ipywidget-background > .lm-Widget > *[data-root-id]\n",
       "  ),\n",
       ".cell-output-ipywidget-background:has(> .lm-Widget > *[data-root-id]) {\n",
       "  background-color: transparent !important;\n",
       "}\n",
       "</style>"
      ]
     },
     "metadata": {},
     "output_type": "display_data"
    },
    {
     "data": {
      "application/javascript": "(function(root) {\n  function now() {\n    return new Date();\n  }\n\n  const force = true;\n  const py_version = '3.7.3'.replace('rc', '-rc.').replace('.dev', '-dev.');\n  const reloading = false;\n  const Bokeh = root.Bokeh;\n\n  // Set a timeout for this load but only if we are not already initializing\n  if (typeof (root._bokeh_timeout) === \"undefined\" || (force || !root._bokeh_is_initializing)) {\n    root._bokeh_timeout = Date.now() + 5000;\n    root._bokeh_failed_load = false;\n  }\n\n  function run_callbacks() {\n    try {\n      root._bokeh_onload_callbacks.forEach(function(callback) {\n        if (callback != null)\n          callback();\n      });\n    } finally {\n      delete root._bokeh_onload_callbacks;\n    }\n    console.debug(\"Bokeh: all callbacks have finished\");\n  }\n\n  function load_libs(css_urls, js_urls, js_modules, js_exports, callback) {\n    if (css_urls == null) css_urls = [];\n    if (js_urls == null) js_urls = [];\n    if (js_modules == null) js_modules = [];\n    if (js_exports == null) js_exports = {};\n\n    root._bokeh_onload_callbacks.push(callback);\n\n    if (root._bokeh_is_loading > 0) {\n      // Don't load bokeh if it is still initializing\n      console.debug(\"Bokeh: BokehJS is being loaded, scheduling callback at\", now());\n      return null;\n    } else if (js_urls.length === 0 && js_modules.length === 0 && Object.keys(js_exports).length === 0) {\n      // There is nothing to load\n      run_callbacks();\n      return null;\n    }\n\n    function on_load() {\n      root._bokeh_is_loading--;\n      if (root._bokeh_is_loading === 0) {\n        console.debug(\"Bokeh: all BokehJS libraries/stylesheets loaded\");\n        run_callbacks()\n      }\n    }\n    window._bokeh_on_load = on_load\n\n    function on_error(e) {\n      const src_el = e.srcElement\n      console.error(\"failed to load \" + (src_el.href || src_el.src));\n    }\n\n    const skip = [];\n    if (window.requirejs) {\n      window.requirejs.config({'packages': {}, 'paths': {}, 'shim': {}});\n      root._bokeh_is_loading = css_urls.length + 0;\n    } else {\n      root._bokeh_is_loading = css_urls.length + js_urls.length + js_modules.length + Object.keys(js_exports).length;\n    }\n\n    const existing_stylesheets = []\n    const links = document.getElementsByTagName('link')\n    for (let i = 0; i < links.length; i++) {\n      const link = links[i]\n      if (link.href != null) {\n        existing_stylesheets.push(link.href)\n      }\n    }\n    for (let i = 0; i < css_urls.length; i++) {\n      const url = css_urls[i];\n      const escaped = encodeURI(url)\n      if (existing_stylesheets.indexOf(escaped) !== -1) {\n        on_load()\n        continue;\n      }\n      const element = document.createElement(\"link\");\n      element.onload = on_load;\n      element.onerror = on_error;\n      element.rel = \"stylesheet\";\n      element.type = \"text/css\";\n      element.href = url;\n      console.debug(\"Bokeh: injecting link tag for BokehJS stylesheet: \", url);\n      document.body.appendChild(element);\n    }    var existing_scripts = []\n    const scripts = document.getElementsByTagName('script')\n    for (let i = 0; i < scripts.length; i++) {\n      var script = scripts[i]\n      if (script.src != null) {\n        existing_scripts.push(script.src)\n      }\n    }\n    for (let i = 0; i < js_urls.length; i++) {\n      const url = js_urls[i];\n      const escaped = encodeURI(url)\n      if (skip.indexOf(escaped) !== -1 || existing_scripts.indexOf(escaped) !== -1) {\n        if (!window.requirejs) {\n          on_load();\n        }\n        continue;\n      }\n      const element = document.createElement('script');\n      element.onload = on_load;\n      element.onerror = on_error;\n      element.async = false;\n      element.src = url;\n      console.debug(\"Bokeh: injecting script tag for BokehJS library: \", url);\n      document.head.appendChild(element);\n    }\n    for (let i = 0; i < js_modules.length; i++) {\n      const url = js_modules[i];\n      const escaped = encodeURI(url)\n      if (skip.indexOf(escaped) !== -1 || existing_scripts.indexOf(escaped) !== -1) {\n        if (!window.requirejs) {\n          on_load();\n        }\n        continue;\n      }\n      var element = document.createElement('script');\n      element.onload = on_load;\n      element.onerror = on_error;\n      element.async = false;\n      element.src = url;\n      element.type = \"module\";\n      console.debug(\"Bokeh: injecting script tag for BokehJS library: \", url);\n      document.head.appendChild(element);\n    }\n    for (const name in js_exports) {\n      const url = js_exports[name];\n      const escaped = encodeURI(url)\n      if (skip.indexOf(escaped) >= 0 || root[name] != null) {\n        if (!window.requirejs) {\n          on_load();\n        }\n        continue;\n      }\n      var element = document.createElement('script');\n      element.onerror = on_error;\n      element.async = false;\n      element.type = \"module\";\n      console.debug(\"Bokeh: injecting script tag for BokehJS library: \", url);\n      element.textContent = `\n      import ${name} from \"${url}\"\n      window.${name} = ${name}\n      window._bokeh_on_load()\n      `\n      document.head.appendChild(element);\n    }\n    if (!js_urls.length && !js_modules.length) {\n      on_load()\n    }\n  };\n\n  function inject_raw_css(css) {\n    const element = document.createElement(\"style\");\n    element.appendChild(document.createTextNode(css));\n    document.body.appendChild(element);\n  }\n\n  const js_urls = [\"https://cdn.holoviz.org/panel/1.7.1/dist/bundled/reactiveesm/es-module-shims@^1.10.0/dist/es-module-shims.min.js\", \"https://cdn.bokeh.org/bokeh/release/bokeh-3.7.3.min.js\", \"https://cdn.bokeh.org/bokeh/release/bokeh-gl-3.7.3.min.js\", \"https://cdn.bokeh.org/bokeh/release/bokeh-widgets-3.7.3.min.js\", \"https://cdn.bokeh.org/bokeh/release/bokeh-tables-3.7.3.min.js\", \"https://cdn.holoviz.org/panel/1.7.1/dist/panel.min.js\"];\n  const js_modules = [];\n  const js_exports = {};\n  const css_urls = [];\n  const inline_js = [    function(Bokeh) {\n      Bokeh.set_log_level(\"info\");\n    },\nfunction(Bokeh) {} // ensure no trailing comma for IE\n  ];\n\n  function run_inline_js() {\n    if ((root.Bokeh !== undefined) || (force === true)) {\n      for (let i = 0; i < inline_js.length; i++) {\n        try {\n          inline_js[i].call(root, root.Bokeh);\n        } catch(e) {\n          if (!reloading) {\n            throw e;\n          }\n        }\n      }\n      // Cache old bokeh versions\n      if (Bokeh != undefined && !reloading) {\n        var NewBokeh = root.Bokeh;\n        if (Bokeh.versions === undefined) {\n          Bokeh.versions = new Map();\n        }\n        if (NewBokeh.version !== Bokeh.version) {\n          Bokeh.versions.set(NewBokeh.version, NewBokeh)\n        }\n        root.Bokeh = Bokeh;\n      }\n    } else if (Date.now() < root._bokeh_timeout) {\n      setTimeout(run_inline_js, 100);\n    } else if (!root._bokeh_failed_load) {\n      console.log(\"Bokeh: BokehJS failed to load within specified timeout.\");\n      root._bokeh_failed_load = true;\n    }\n    root._bokeh_is_initializing = false\n  }\n\n  function load_or_wait() {\n    // Implement a backoff loop that tries to ensure we do not load multiple\n    // versions of Bokeh and its dependencies at the same time.\n    // In recent versions we use the root._bokeh_is_initializing flag\n    // to determine whether there is an ongoing attempt to initialize\n    // bokeh, however for backward compatibility we also try to ensure\n    // that we do not start loading a newer (Panel>=1.0 and Bokeh>3) version\n    // before older versions are fully initialized.\n    if (root._bokeh_is_initializing && Date.now() > root._bokeh_timeout) {\n      // If the timeout and bokeh was not successfully loaded we reset\n      // everything and try loading again\n      root._bokeh_timeout = Date.now() + 5000;\n      root._bokeh_is_initializing = false;\n      root._bokeh_onload_callbacks = undefined;\n      root._bokeh_is_loading = 0\n      console.log(\"Bokeh: BokehJS was loaded multiple times but one version failed to initialize.\");\n      load_or_wait();\n    } else if (root._bokeh_is_initializing || (typeof root._bokeh_is_initializing === \"undefined\" && root._bokeh_onload_callbacks !== undefined)) {\n      setTimeout(load_or_wait, 100);\n    } else {\n      root._bokeh_is_initializing = true\n      root._bokeh_onload_callbacks = []\n      const bokeh_loaded = root.Bokeh != null && (root.Bokeh.version === py_version || (root.Bokeh.versions !== undefined && root.Bokeh.versions.has(py_version)));\n      if (!reloading && !bokeh_loaded) {\n        if (root.Bokeh) {\n          root.Bokeh = undefined;\n        }\n        console.debug(\"Bokeh: BokehJS not loaded, scheduling load and callback at\", now());\n      }\n      load_libs(css_urls, js_urls, js_modules, js_exports, function() {\n        console.debug(\"Bokeh: BokehJS plotting callback run at\", now());\n        run_inline_js();\n      });\n    }\n  }\n  // Give older versions of the autoload script a head-start to ensure\n  // they initialize before we start loading newer version.\n  setTimeout(load_or_wait, 100)\n}(window));",
      "application/vnd.holoviews_load.v0+json": ""
     },
     "metadata": {},
     "output_type": "display_data"
    },
    {
     "data": {
      "application/javascript": "\nif ((window.PyViz === undefined) || (window.PyViz instanceof HTMLElement)) {\n  window.PyViz = {comms: {}, comm_status:{}, kernels:{}, receivers: {}, plot_index: []}\n}\n\n\n    function JupyterCommManager() {\n    }\n\n    JupyterCommManager.prototype.register_target = function(plot_id, comm_id, msg_handler) {\n      if (window.comm_manager || ((window.Jupyter !== undefined) && (Jupyter.notebook.kernel != null))) {\n        var comm_manager = window.comm_manager || Jupyter.notebook.kernel.comm_manager;\n        comm_manager.register_target(comm_id, function(comm) {\n          comm.on_msg(msg_handler);\n        });\n      } else if ((plot_id in window.PyViz.kernels) && (window.PyViz.kernels[plot_id])) {\n        window.PyViz.kernels[plot_id].registerCommTarget(comm_id, function(comm) {\n          comm.onMsg = msg_handler;\n        });\n      } else if (typeof google != 'undefined' && google.colab.kernel != null) {\n        google.colab.kernel.comms.registerTarget(comm_id, (comm) => {\n          var messages = comm.messages[Symbol.asyncIterator]();\n          function processIteratorResult(result) {\n            var message = result.value;\n            console.log(message)\n            var content = {data: message.data, comm_id};\n            var buffers = []\n            for (var buffer of message.buffers || []) {\n              buffers.push(new DataView(buffer))\n            }\n            var metadata = message.metadata || {};\n            var msg = {content, buffers, metadata}\n            msg_handler(msg);\n            return messages.next().then(processIteratorResult);\n          }\n          return messages.next().then(processIteratorResult);\n        })\n      }\n    }\n\n    JupyterCommManager.prototype.get_client_comm = function(plot_id, comm_id, msg_handler) {\n      if (comm_id in window.PyViz.comms) {\n        return window.PyViz.comms[comm_id];\n      } else if (window.comm_manager || ((window.Jupyter !== undefined) && (Jupyter.notebook.kernel != null))) {\n        var comm_manager = window.comm_manager || Jupyter.notebook.kernel.comm_manager;\n        var comm = comm_manager.new_comm(comm_id, {}, {}, {}, comm_id);\n        if (msg_handler) {\n          comm.on_msg(msg_handler);\n        }\n      } else if ((plot_id in window.PyViz.kernels) && (window.PyViz.kernels[plot_id])) {\n        var comm = window.PyViz.kernels[plot_id].connectToComm(comm_id);\n        comm.open();\n        if (msg_handler) {\n          comm.onMsg = msg_handler;\n        }\n      } else if (typeof google != 'undefined' && google.colab.kernel != null) {\n        var comm_promise = google.colab.kernel.comms.open(comm_id)\n        comm_promise.then((comm) => {\n          window.PyViz.comms[comm_id] = comm;\n          if (msg_handler) {\n            var messages = comm.messages[Symbol.asyncIterator]();\n            function processIteratorResult(result) {\n              var message = result.value;\n              var content = {data: message.data};\n              var metadata = message.metadata || {comm_id};\n              var msg = {content, metadata}\n              msg_handler(msg);\n              return messages.next().then(processIteratorResult);\n            }\n            return messages.next().then(processIteratorResult);\n          }\n        })\n        var sendClosure = (data, metadata, buffers, disposeOnDone) => {\n          return comm_promise.then((comm) => {\n            comm.send(data, metadata, buffers, disposeOnDone);\n          });\n        };\n        var comm = {\n          send: sendClosure\n        };\n      }\n      window.PyViz.comms[comm_id] = comm;\n      return comm;\n    }\n    window.PyViz.comm_manager = new JupyterCommManager();\n    \n\n\nvar JS_MIME_TYPE = 'application/javascript';\nvar HTML_MIME_TYPE = 'text/html';\nvar EXEC_MIME_TYPE = 'application/vnd.holoviews_exec.v0+json';\nvar CLASS_NAME = 'output';\n\n/**\n * Render data to the DOM node\n */\nfunction render(props, node) {\n  var div = document.createElement(\"div\");\n  var script = document.createElement(\"script\");\n  node.appendChild(div);\n  node.appendChild(script);\n}\n\n/**\n * Handle when a new output is added\n */\nfunction handle_add_output(event, handle) {\n  var output_area = handle.output_area;\n  var output = handle.output;\n  if ((output.data == undefined) || (!output.data.hasOwnProperty(EXEC_MIME_TYPE))) {\n    return\n  }\n  var id = output.metadata[EXEC_MIME_TYPE][\"id\"];\n  var toinsert = output_area.element.find(\".\" + CLASS_NAME.split(' ')[0]);\n  if (id !== undefined) {\n    var nchildren = toinsert.length;\n    var html_node = toinsert[nchildren-1].children[0];\n    html_node.innerHTML = output.data[HTML_MIME_TYPE];\n    var scripts = [];\n    var nodelist = html_node.querySelectorAll(\"script\");\n    for (var i in nodelist) {\n      if (nodelist.hasOwnProperty(i)) {\n        scripts.push(nodelist[i])\n      }\n    }\n\n    scripts.forEach( function (oldScript) {\n      var newScript = document.createElement(\"script\");\n      var attrs = [];\n      var nodemap = oldScript.attributes;\n      for (var j in nodemap) {\n        if (nodemap.hasOwnProperty(j)) {\n          attrs.push(nodemap[j])\n        }\n      }\n      attrs.forEach(function(attr) { newScript.setAttribute(attr.name, attr.value) });\n      newScript.appendChild(document.createTextNode(oldScript.innerHTML));\n      oldScript.parentNode.replaceChild(newScript, oldScript);\n    });\n    if (JS_MIME_TYPE in output.data) {\n      toinsert[nchildren-1].children[1].textContent = output.data[JS_MIME_TYPE];\n    }\n    output_area._hv_plot_id = id;\n    if ((window.Bokeh !== undefined) && (id in Bokeh.index)) {\n      window.PyViz.plot_index[id] = Bokeh.index[id];\n    } else {\n      window.PyViz.plot_index[id] = null;\n    }\n  } else if (output.metadata[EXEC_MIME_TYPE][\"server_id\"] !== undefined) {\n    var bk_div = document.createElement(\"div\");\n    bk_div.innerHTML = output.data[HTML_MIME_TYPE];\n    var script_attrs = bk_div.children[0].attributes;\n    for (var i = 0; i < script_attrs.length; i++) {\n      toinsert[toinsert.length - 1].childNodes[1].setAttribute(script_attrs[i].name, script_attrs[i].value);\n    }\n    // store reference to server id on output_area\n    output_area._bokeh_server_id = output.metadata[EXEC_MIME_TYPE][\"server_id\"];\n  }\n}\n\n/**\n * Handle when an output is cleared or removed\n */\nfunction handle_clear_output(event, handle) {\n  var id = handle.cell.output_area._hv_plot_id;\n  var server_id = handle.cell.output_area._bokeh_server_id;\n  if (((id === undefined) || !(id in PyViz.plot_index)) && (server_id !== undefined)) { return; }\n  var comm = window.PyViz.comm_manager.get_client_comm(\"hv-extension-comm\", \"hv-extension-comm\", function () {});\n  if (server_id !== null) {\n    comm.send({event_type: 'server_delete', 'id': server_id});\n    return;\n  } else if (comm !== null) {\n    comm.send({event_type: 'delete', 'id': id});\n  }\n  delete PyViz.plot_index[id];\n  if ((window.Bokeh !== undefined) & (id in window.Bokeh.index)) {\n    var doc = window.Bokeh.index[id].model.document\n    doc.clear();\n    const i = window.Bokeh.documents.indexOf(doc);\n    if (i > -1) {\n      window.Bokeh.documents.splice(i, 1);\n    }\n  }\n}\n\n/**\n * Handle kernel restart event\n */\nfunction handle_kernel_cleanup(event, handle) {\n  delete PyViz.comms[\"hv-extension-comm\"];\n  window.PyViz.plot_index = {}\n}\n\n/**\n * Handle update_display_data messages\n */\nfunction handle_update_output(event, handle) {\n  handle_clear_output(event, {cell: {output_area: handle.output_area}})\n  handle_add_output(event, handle)\n}\n\nfunction register_renderer(events, OutputArea) {\n  function append_mime(data, metadata, element) {\n    // create a DOM node to render to\n    var toinsert = this.create_output_subarea(\n    metadata,\n    CLASS_NAME,\n    EXEC_MIME_TYPE\n    );\n    this.keyboard_manager.register_events(toinsert);\n    // Render to node\n    var props = {data: data, metadata: metadata[EXEC_MIME_TYPE]};\n    render(props, toinsert[0]);\n    element.append(toinsert);\n    return toinsert\n  }\n\n  events.on('output_added.OutputArea', handle_add_output);\n  events.on('output_updated.OutputArea', handle_update_output);\n  events.on('clear_output.CodeCell', handle_clear_output);\n  events.on('delete.Cell', handle_clear_output);\n  events.on('kernel_ready.Kernel', handle_kernel_cleanup);\n\n  OutputArea.prototype.register_mime_type(EXEC_MIME_TYPE, append_mime, {\n    safe: true,\n    index: 0\n  });\n}\n\nif (window.Jupyter !== undefined) {\n  try {\n    var events = require('base/js/events');\n    var OutputArea = require('notebook/js/outputarea').OutputArea;\n    if (OutputArea.prototype.mime_types().indexOf(EXEC_MIME_TYPE) == -1) {\n      register_renderer(events, OutputArea);\n    }\n  } catch(err) {\n  }\n}\n",
      "application/vnd.holoviews_load.v0+json": ""
     },
     "metadata": {},
     "output_type": "display_data"
    },
    {
     "data": {
      "application/vnd.holoviews_exec.v0+json": "",
      "text/html": [
       "<div id='p1004'>\n",
       "  <div id=\"b41d254c-0286-4c5a-a3a1-86b5df860f42\" data-root-id=\"p1004\" style=\"display: contents;\"></div>\n",
       "</div>\n",
       "<script type=\"application/javascript\">(function(root) {\n",
       "  var docs_json = {\"72816a92-c53b-4461-95b1-a8a28737fce7\":{\"version\":\"3.7.3\",\"title\":\"Bokeh Application\",\"roots\":[{\"type\":\"object\",\"name\":\"panel.models.browser.BrowserInfo\",\"id\":\"p1004\"},{\"type\":\"object\",\"name\":\"panel.models.comm_manager.CommManager\",\"id\":\"p1005\",\"attributes\":{\"plot_id\":\"p1004\",\"comm_id\":\"0539beb08ef14e528d3035b569a25a72\",\"client_comm_id\":\"56064e4da28140998deb109a56de4441\"}}],\"defs\":[{\"type\":\"model\",\"name\":\"ReactiveHTML1\"},{\"type\":\"model\",\"name\":\"FlexBox1\",\"properties\":[{\"name\":\"align_content\",\"kind\":\"Any\",\"default\":\"flex-start\"},{\"name\":\"align_items\",\"kind\":\"Any\",\"default\":\"flex-start\"},{\"name\":\"flex_direction\",\"kind\":\"Any\",\"default\":\"row\"},{\"name\":\"flex_wrap\",\"kind\":\"Any\",\"default\":\"wrap\"},{\"name\":\"gap\",\"kind\":\"Any\",\"default\":\"\"},{\"name\":\"justify_content\",\"kind\":\"Any\",\"default\":\"flex-start\"}]},{\"type\":\"model\",\"name\":\"FloatPanel1\",\"properties\":[{\"name\":\"config\",\"kind\":\"Any\",\"default\":{\"type\":\"map\"}},{\"name\":\"contained\",\"kind\":\"Any\",\"default\":true},{\"name\":\"position\",\"kind\":\"Any\",\"default\":\"right-top\"},{\"name\":\"offsetx\",\"kind\":\"Any\",\"default\":null},{\"name\":\"offsety\",\"kind\":\"Any\",\"default\":null},{\"name\":\"theme\",\"kind\":\"Any\",\"default\":\"primary\"},{\"name\":\"status\",\"kind\":\"Any\",\"default\":\"normalized\"}]},{\"type\":\"model\",\"name\":\"GridStack1\",\"properties\":[{\"name\":\"ncols\",\"kind\":\"Any\",\"default\":null},{\"name\":\"nrows\",\"kind\":\"Any\",\"default\":null},{\"name\":\"allow_resize\",\"kind\":\"Any\",\"default\":true},{\"name\":\"allow_drag\",\"kind\":\"Any\",\"default\":true},{\"name\":\"state\",\"kind\":\"Any\",\"default\":[]}]},{\"type\":\"model\",\"name\":\"drag1\",\"properties\":[{\"name\":\"slider_width\",\"kind\":\"Any\",\"default\":5},{\"name\":\"slider_color\",\"kind\":\"Any\",\"default\":\"black\"},{\"name\":\"value\",\"kind\":\"Any\",\"default\":50}]},{\"type\":\"model\",\"name\":\"click1\",\"properties\":[{\"name\":\"terminal_output\",\"kind\":\"Any\",\"default\":\"\"},{\"name\":\"debug_name\",\"kind\":\"Any\",\"default\":\"\"},{\"name\":\"clears\",\"kind\":\"Any\",\"default\":0}]},{\"type\":\"model\",\"name\":\"FastWrapper1\",\"properties\":[{\"name\":\"object\",\"kind\":\"Any\",\"default\":null},{\"name\":\"style\",\"kind\":\"Any\",\"default\":null}]},{\"type\":\"model\",\"name\":\"NotificationArea1\",\"properties\":[{\"name\":\"js_events\",\"kind\":\"Any\",\"default\":{\"type\":\"map\"}},{\"name\":\"max_notifications\",\"kind\":\"Any\",\"default\":5},{\"name\":\"notifications\",\"kind\":\"Any\",\"default\":[]},{\"name\":\"position\",\"kind\":\"Any\",\"default\":\"bottom-right\"},{\"name\":\"_clear\",\"kind\":\"Any\",\"default\":0},{\"name\":\"types\",\"kind\":\"Any\",\"default\":[{\"type\":\"map\",\"entries\":[[\"type\",\"warning\"],[\"background\",\"#ffc107\"],[\"icon\",{\"type\":\"map\",\"entries\":[[\"className\",\"fas fa-exclamation-triangle\"],[\"tagName\",\"i\"],[\"color\",\"white\"]]}]]},{\"type\":\"map\",\"entries\":[[\"type\",\"info\"],[\"background\",\"#007bff\"],[\"icon\",{\"type\":\"map\",\"entries\":[[\"className\",\"fas fa-info-circle\"],[\"tagName\",\"i\"],[\"color\",\"white\"]]}]]}]}]},{\"type\":\"model\",\"name\":\"Notification\",\"properties\":[{\"name\":\"background\",\"kind\":\"Any\",\"default\":null},{\"name\":\"duration\",\"kind\":\"Any\",\"default\":3000},{\"name\":\"icon\",\"kind\":\"Any\",\"default\":null},{\"name\":\"message\",\"kind\":\"Any\",\"default\":\"\"},{\"name\":\"notification_type\",\"kind\":\"Any\",\"default\":null},{\"name\":\"_rendered\",\"kind\":\"Any\",\"default\":false},{\"name\":\"_destroyed\",\"kind\":\"Any\",\"default\":false}]},{\"type\":\"model\",\"name\":\"TemplateActions1\",\"properties\":[{\"name\":\"open_modal\",\"kind\":\"Any\",\"default\":0},{\"name\":\"close_modal\",\"kind\":\"Any\",\"default\":0}]},{\"type\":\"model\",\"name\":\"BootstrapTemplateActions1\",\"properties\":[{\"name\":\"open_modal\",\"kind\":\"Any\",\"default\":0},{\"name\":\"close_modal\",\"kind\":\"Any\",\"default\":0}]},{\"type\":\"model\",\"name\":\"TemplateEditor1\",\"properties\":[{\"name\":\"layout\",\"kind\":\"Any\",\"default\":[]}]},{\"type\":\"model\",\"name\":\"MaterialTemplateActions1\",\"properties\":[{\"name\":\"open_modal\",\"kind\":\"Any\",\"default\":0},{\"name\":\"close_modal\",\"kind\":\"Any\",\"default\":0}]},{\"type\":\"model\",\"name\":\"ReactiveESM1\",\"properties\":[{\"name\":\"esm_constants\",\"kind\":\"Any\",\"default\":{\"type\":\"map\"}}]},{\"type\":\"model\",\"name\":\"JSComponent1\",\"properties\":[{\"name\":\"esm_constants\",\"kind\":\"Any\",\"default\":{\"type\":\"map\"}}]},{\"type\":\"model\",\"name\":\"ReactComponent1\",\"properties\":[{\"name\":\"esm_constants\",\"kind\":\"Any\",\"default\":{\"type\":\"map\"}}]},{\"type\":\"model\",\"name\":\"AnyWidgetComponent1\",\"properties\":[{\"name\":\"esm_constants\",\"kind\":\"Any\",\"default\":{\"type\":\"map\"}}]},{\"type\":\"model\",\"name\":\"request_value1\",\"properties\":[{\"name\":\"fill\",\"kind\":\"Any\",\"default\":\"none\"},{\"name\":\"_synced\",\"kind\":\"Any\",\"default\":null},{\"name\":\"_request_sync\",\"kind\":\"Any\",\"default\":0}]}]}};\n",
       "  var render_items = [{\"docid\":\"72816a92-c53b-4461-95b1-a8a28737fce7\",\"roots\":{\"p1004\":\"b41d254c-0286-4c5a-a3a1-86b5df860f42\"},\"root_ids\":[\"p1004\"]}];\n",
       "  var docs = Object.values(docs_json)\n",
       "  if (!docs) {\n",
       "    return\n",
       "  }\n",
       "  const py_version = docs[0].version.replace('rc', '-rc.').replace('.dev', '-dev.')\n",
       "  async function embed_document(root) {\n",
       "    var Bokeh = get_bokeh(root)\n",
       "    await Bokeh.embed.embed_items_notebook(docs_json, render_items);\n",
       "    for (const render_item of render_items) {\n",
       "      for (const root_id of render_item.root_ids) {\n",
       "\tconst id_el = document.getElementById(root_id)\n",
       "\tif (id_el.children.length && id_el.children[0].hasAttribute('data-root-id')) {\n",
       "\t  const root_el = id_el.children[0]\n",
       "\t  root_el.id = root_el.id + '-rendered'\n",
       "\t  for (const child of root_el.children) {\n",
       "            // Ensure JupyterLab does not capture keyboard shortcuts\n",
       "            // see: https://jupyterlab.readthedocs.io/en/4.1.x/extension/notebook.html#keyboard-interaction-model\n",
       "\t    child.setAttribute('data-lm-suppress-shortcuts', 'true')\n",
       "\t  }\n",
       "\t}\n",
       "      }\n",
       "    }\n",
       "  }\n",
       "  function get_bokeh(root) {\n",
       "    if (root.Bokeh === undefined) {\n",
       "      return null\n",
       "    } else if (root.Bokeh.version !== py_version) {\n",
       "      if (root.Bokeh.versions === undefined || !root.Bokeh.versions.has(py_version)) {\n",
       "\treturn null\n",
       "      }\n",
       "      return root.Bokeh.versions.get(py_version);\n",
       "    } else if (root.Bokeh.version === py_version) {\n",
       "      return root.Bokeh\n",
       "    }\n",
       "    return null\n",
       "  }\n",
       "  function is_loaded(root) {\n",
       "    var Bokeh = get_bokeh(root)\n",
       "    return (Bokeh != null && Bokeh.Panel !== undefined)\n",
       "  }\n",
       "  if (is_loaded(root)) {\n",
       "    embed_document(root);\n",
       "  } else {\n",
       "    var attempts = 0;\n",
       "    var timer = setInterval(function(root) {\n",
       "      if (is_loaded(root)) {\n",
       "        clearInterval(timer);\n",
       "        embed_document(root);\n",
       "      } else if (document.readyState == \"complete\") {\n",
       "        attempts++;\n",
       "        if (attempts > 200) {\n",
       "          clearInterval(timer);\n",
       "\t  var Bokeh = get_bokeh(root)\n",
       "\t  if (Bokeh == null || Bokeh.Panel == null) {\n",
       "            console.warn(\"Panel: ERROR: Unable to run Panel code because Bokeh or Panel library is missing\");\n",
       "\t  } else {\n",
       "\t    console.warn(\"Panel: WARNING: Attempting to render but not all required libraries could be resolved.\")\n",
       "\t    embed_document(root)\n",
       "\t  }\n",
       "        }\n",
       "      }\n",
       "    }, 25, root)\n",
       "  }\n",
       "})(window);</script>"
      ]
     },
     "metadata": {
      "application/vnd.holoviews_exec.v0+json": {
       "id": "p1004"
      }
     },
     "output_type": "display_data"
    }
   ],
   "source": [
    "# Import libraries\n",
    "import dataretrieval.nwis as nwis\n",
    "import geopandas as gpd\n",
    "import hvplot.pandas\n",
    "import pandas as pd"
   ]
  },
  {
   "cell_type": "code",
   "execution_count": 7,
   "id": "6577032f",
   "metadata": {},
   "outputs": [
    {
     "name": "stdout",
     "output_type": "stream",
     "text": [
      "                          agency_cd   site_no peak_tm  peak_va  peak_cd  \\\n",
      "datetime                                                                  \n",
      "1929-03-05 00:00:00+00:00      USGS  06446500     NaN     6300      NaN   \n",
      "1930-08-16 00:00:00+00:00      USGS  06446500     NaN     8510      NaN   \n",
      "1930-10-03 00:00:00+00:00      USGS  06446500     NaN     3670      NaN   \n",
      "1932-05-06 00:00:00+00:00      USGS  06446500     NaN    11500      NaN   \n",
      "1940-07-26 00:00:00+00:00      USGS  06446500     NaN     1940      NaN   \n",
      "1941-06-10 00:00:00+00:00      USGS  06446500     NaN     8730      NaN   \n",
      "1942-05-01 00:00:00+00:00      USGS  06446500     NaN    17100      NaN   \n",
      "2003-05-01 00:00:00+00:00      USGS  06446500     NaN     5710      NaN   \n",
      "2004-09-06 00:00:00+00:00      USGS  06446500     NaN    11200      NaN   \n",
      "2005-05-12 00:00:00+00:00      USGS  06446500     NaN    11500      NaN   \n",
      "2006-09-23 00:00:00+00:00      USGS  06446500     NaN     3300      NaN   \n",
      "2007-08-04 00:00:00+00:00      USGS  06446500     NaN     5100      NaN   \n",
      "2008-06-06 00:00:00+00:00      USGS  06446500     NaN    13300      NaN   \n",
      "2009-07-12 00:00:00+00:00      USGS  06446500     NaN     6040      NaN   \n",
      "2010-04-24 00:00:00+00:00      USGS  06446500     NaN     6900      NaN   \n",
      "2011-05-20 00:00:00+00:00      USGS  06446500     NaN    11600      NaN   \n",
      "2012-05-06 00:00:00+00:00      USGS  06446500     NaN     2270      NaN   \n",
      "2013-06-22 00:00:00+00:00      USGS  06446500     NaN     4340      NaN   \n",
      "2013-10-15 00:00:00+00:00      USGS  06446500     NaN    10600      NaN   \n",
      "2015-05-17 00:00:00+00:00      USGS  06446500     NaN    15000      NaN   \n",
      "2016-07-02 00:00:00+00:00      USGS  06446500     NaN    11900      NaN   \n",
      "2017-04-10 00:00:00+00:00      USGS  06446500   17:50     6580      NaN   \n",
      "2018-06-20 00:00:00+00:00      USGS  06446500   15:15     4500      NaN   \n",
      "2019-05-22 00:00:00+00:00      USGS  06446500   12:45    16500      NaN   \n",
      "2020-05-31 00:00:00+00:00      USGS  06446500   07:00     1260      NaN   \n",
      "2021-05-22 00:00:00+00:00      USGS  06446500   09:30     4860      NaN   \n",
      "2021-10-13 00:00:00+00:00      USGS  06446500   19:45     5240      NaN   \n",
      "2023-05-12 00:00:00+00:00      USGS  06446500   23:15    13700      NaN   \n",
      "2023-10-13 00:00:00+00:00      USGS  06446500   08:30    12900      NaN   \n",
      "\n",
      "                           gage_ht gage_ht_cd  year_last_pk       ag_dt  \\\n",
      "datetime                                                                  \n",
      "1929-03-05 00:00:00+00:00     7.50          3           NaN         NaN   \n",
      "1930-08-16 00:00:00+00:00     8.60          3           NaN         NaN   \n",
      "1930-10-03 00:00:00+00:00     6.00          3           NaN         NaN   \n",
      "1932-05-06 00:00:00+00:00    10.00          3           NaN         NaN   \n",
      "1940-07-26 00:00:00+00:00     4.66        2,3           NaN  1940-03-15   \n",
      "1941-06-10 00:00:00+00:00     7.70          3           NaN         NaN   \n",
      "1942-05-01 00:00:00+00:00    12.40          3           NaN         NaN   \n",
      "2003-05-01 00:00:00+00:00     8.95          2           NaN  2003-02-17   \n",
      "2004-09-06 00:00:00+00:00    13.69        NaN           NaN         NaN   \n",
      "2005-05-12 00:00:00+00:00    13.76        NaN           NaN         NaN   \n",
      "2006-09-23 00:00:00+00:00     8.64        NaN           NaN         NaN   \n",
      "2007-08-04 00:00:00+00:00    10.32        NaN           NaN         NaN   \n",
      "2008-06-06 00:00:00+00:00    14.05        NaN           NaN         NaN   \n",
      "2009-07-12 00:00:00+00:00    11.18        NaN           NaN         NaN   \n",
      "2010-04-24 00:00:00+00:00    12.11          2           NaN  2010-03-05   \n",
      "2011-05-20 00:00:00+00:00    14.41          2           NaN  2011-03-13   \n",
      "2012-05-06 00:00:00+00:00     7.83        NaN           NaN         NaN   \n",
      "2013-06-22 00:00:00+00:00    10.37        NaN           NaN         NaN   \n",
      "2013-10-15 00:00:00+00:00    13.98        NaN           NaN         NaN   \n",
      "2015-05-17 00:00:00+00:00    15.70        NaN           NaN         NaN   \n",
      "2016-07-02 00:00:00+00:00    14.53        NaN           NaN         NaN   \n",
      "2017-04-10 00:00:00+00:00    11.93        NaN           NaN         NaN   \n",
      "2018-06-20 00:00:00+00:00    10.69        NaN           NaN         NaN   \n",
      "2019-05-22 00:00:00+00:00    16.08        NaN           NaN         NaN   \n",
      "2020-05-31 00:00:00+00:00     6.53          2           NaN  2020-03-01   \n",
      "2021-05-22 00:00:00+00:00    10.91        NaN           NaN         NaN   \n",
      "2021-10-13 00:00:00+00:00    11.20        NaN           NaN         NaN   \n",
      "2023-05-12 00:00:00+00:00    15.15        NaN           NaN         NaN   \n",
      "2023-10-13 00:00:00+00:00    14.88        NaN           NaN         NaN   \n",
      "\n",
      "                            ag_tm  ag_gage_ht  ag_gage_ht_cd  \n",
      "datetime                                                      \n",
      "1929-03-05 00:00:00+00:00     NaN         NaN            NaN  \n",
      "1930-08-16 00:00:00+00:00     NaN         NaN            NaN  \n",
      "1930-10-03 00:00:00+00:00     NaN         NaN            NaN  \n",
      "1932-05-06 00:00:00+00:00     NaN         NaN            NaN  \n",
      "1940-07-26 00:00:00+00:00     NaN        5.00            1.0  \n",
      "1941-06-10 00:00:00+00:00     NaN         NaN            NaN  \n",
      "1942-05-01 00:00:00+00:00     NaN         NaN            NaN  \n",
      "2003-05-01 00:00:00+00:00     NaN        9.97            1.0  \n",
      "2004-09-06 00:00:00+00:00     NaN         NaN            NaN  \n",
      "2005-05-12 00:00:00+00:00     NaN         NaN            NaN  \n",
      "2006-09-23 00:00:00+00:00     NaN         NaN            NaN  \n",
      "2007-08-04 00:00:00+00:00     NaN         NaN            NaN  \n",
      "2008-06-06 00:00:00+00:00     NaN         NaN            NaN  \n",
      "2009-07-12 00:00:00+00:00     NaN         NaN            NaN  \n",
      "2010-04-24 00:00:00+00:00     NaN       15.92            1.0  \n",
      "2011-05-20 00:00:00+00:00     NaN       15.52            1.0  \n",
      "2012-05-06 00:00:00+00:00     NaN         NaN            NaN  \n",
      "2013-06-22 00:00:00+00:00     NaN         NaN            NaN  \n",
      "2013-10-15 00:00:00+00:00     NaN         NaN            NaN  \n",
      "2015-05-17 00:00:00+00:00     NaN         NaN            NaN  \n",
      "2016-07-02 00:00:00+00:00     NaN         NaN            NaN  \n",
      "2017-04-10 00:00:00+00:00     NaN         NaN            NaN  \n",
      "2018-06-20 00:00:00+00:00     NaN         NaN            NaN  \n",
      "2019-05-22 00:00:00+00:00     NaN         NaN            NaN  \n",
      "2020-05-31 00:00:00+00:00  1945.0        8.25            1.0  \n",
      "2021-05-22 00:00:00+00:00     NaN         NaN            NaN  \n",
      "2021-10-13 00:00:00+00:00     NaN         NaN            NaN  \n",
      "2023-05-12 00:00:00+00:00     NaN         NaN            NaN  \n",
      "2023-10-13 00:00:00+00:00     NaN         NaN            NaN  \n"
     ]
    }
   ],
   "source": [
    "# Define site variable using Interior stream gauge\n",
    "site = '06446500'\n",
    "df = nwis.get_record(sites=site, service='peaks',\n",
    "                     start = '1928-10-01', end = '2025-06-09')\n",
    "print(df)"
   ]
  },
  {
   "cell_type": "code",
   "execution_count": 9,
   "id": "e82796fd",
   "metadata": {},
   "outputs": [
    {
     "name": "stdout",
     "output_type": "stream",
     "text": [
      "Retrieved 213 data values.\n"
     ]
    }
   ],
   "source": [
    "interior_discharge = nwis.get_discharge_measurements(sites=\"06446500\")\n",
    "print(\"Retrieved \" + str(len(interior_discharge[0])) + \" data values.\")"
   ]
  },
  {
   "cell_type": "code",
   "execution_count": 10,
   "id": "8632f94b",
   "metadata": {},
   "outputs": [
    {
     "data": {
      "text/plain": [
       "(    agency_cd   site_no measurement_nu       measurement_dt tz_cd  \\\n",
       " 0        USGS  06446500              1  2002-10-09 15:10:00   MDT   \n",
       " 1        USGS  06446500              2  2002-10-24 13:00:00   MDT   \n",
       " 2        USGS  06446500              3  2002-11-14 09:00:00   MST   \n",
       " 3        USGS  06446500              4  2002-12-11 12:50:00   MST   \n",
       " 4        USGS  06446500              5  2003-02-19 11:30:00   MST   \n",
       " ..        ...       ...            ...                  ...   ...   \n",
       " 208      USGS  06446500            209  2024-06-28 11:57:00   MDT   \n",
       " 209      USGS  06446500            210  2024-08-07 09:49:00   MDT   \n",
       " 210      USGS  06446500            211  2024-10-10 11:49:00   MDT   \n",
       " 211      USGS  06446500            212  2024-12-09 11:12:03   MST   \n",
       " 212      USGS  06446500            213  2025-04-07 11:11:05   MDT   \n",
       " \n",
       "     q_meas_used_fg party_nm site_visit_coll_agency_cd  gage_height_va  \\\n",
       " 0              Yes      JLW                      USGS            3.25   \n",
       " 1              Yes      JLW                      USGS            3.33   \n",
       " 2              Yes      JLW                      USGS            3.46   \n",
       " 3              Yes      JLW                      USGS            3.66   \n",
       " 4              Yes      jlw                      USGS            5.06   \n",
       " ..             ...      ...                       ...             ...   \n",
       " 208            Yes      JMB                      USGS            3.92   \n",
       " 209            Yes  JMB/TPB                      USGS            3.29   \n",
       " 210            Yes      SJD                      USGS             NaN   \n",
       " 211            Yes      SJD                      USGS            4.10   \n",
       " 212            Yes  SJD/JWV                      USGS            3.89   \n",
       " \n",
       "      discharge_va measured_rating_diff  gage_va_change  gage_va_time  \\\n",
       " 0            9.97                 Fair            0.00          0.40   \n",
       " 1           13.00                 Good            0.00          0.70   \n",
       " 2           23.30                 Fair            0.00          0.50   \n",
       " 3           13.20                 Poor            0.00          0.40   \n",
       " 4          523.00                 Good           -0.03          1.00   \n",
       " ..            ...                  ...             ...           ...   \n",
       " 208         79.40                 Good            0.02          0.55   \n",
       " 209          3.04                 Good            0.03          0.58   \n",
       " 210          0.00            Excellent             NaN           NaN   \n",
       " 211         34.10                 Fair            0.06          0.60   \n",
       " 212         80.30                 Good             NaN           NaN   \n",
       " \n",
       "     control_type_cd discharge_cd  \n",
       " 0             Clear         NONE  \n",
       " 1             Clear         NONE  \n",
       " 2             Clear         NONE  \n",
       " 3          IceCover         NONE  \n",
       " 4             Clear         NONE  \n",
       " ..              ...          ...  \n",
       " 208           Clear         NONE  \n",
       " 209           Clear         NONE  \n",
       " 210          NoFlow         NONE  \n",
       " 211        IceCover         NONE  \n",
       " 212           Clear         NONE  \n",
       " \n",
       " [213 rows x 15 columns],\n",
       " NWIS_Metadata(url=https://nwis.waterdata.usgs.gov/nwis/measurements?site_no=06446500&format=rdb))"
      ]
     },
     "metadata": {},
     "output_type": "display_data"
    }
   ],
   "source": [
    "display(interior_discharge)"
   ]
  },
  {
   "cell_type": "code",
   "execution_count": 11,
   "id": "11ffd879",
   "metadata": {},
   "outputs": [
    {
     "name": "stdout",
     "output_type": "stream",
     "text": [
      "agency_cd                     object\n",
      "site_no                       object\n",
      "measurement_nu                object\n",
      "measurement_dt                object\n",
      "tz_cd                         object\n",
      "q_meas_used_fg                object\n",
      "party_nm                      object\n",
      "site_visit_coll_agency_cd     object\n",
      "gage_height_va               float64\n",
      "discharge_va                 float64\n",
      "measured_rating_diff          object\n",
      "gage_va_change               float64\n",
      "gage_va_time                 float64\n",
      "control_type_cd               object\n",
      "discharge_cd                  object\n",
      "dtype: object\n"
     ]
    }
   ],
   "source": [
    "print(interior_discharge[0].dtypes)"
   ]
  },
  {
   "cell_type": "code",
   "execution_count": null,
   "id": "94a9000c",
   "metadata": {},
   "outputs": [
    {
     "ename": "AttributeError",
     "evalue": "'tuple' object has no attribute 'plot'",
     "output_type": "error",
     "traceback": [
      "\u001b[31m---------------------------------------------------------------------------\u001b[39m",
      "\u001b[31mAttributeError\u001b[39m                            Traceback (most recent call last)",
      "\u001b[36mCell\u001b[39m\u001b[36m \u001b[39m\u001b[32mIn[15]\u001b[39m\u001b[32m, line 2\u001b[39m\n\u001b[32m      1\u001b[39m (\n\u001b[32m----> \u001b[39m\u001b[32m2\u001b[39m     \u001b[43minterior_discharge\u001b[49m\u001b[43m.\u001b[49m\u001b[43mplot\u001b[49m(\n\u001b[32m      3\u001b[39m         xlabel=\u001b[33m'\u001b[39m\u001b[33m'\u001b[39m,\n\u001b[32m      4\u001b[39m         ylabel=\u001b[33m'\u001b[39m\u001b[33m'\u001b[39m,\n\u001b[32m      5\u001b[39m         title=\u001b[33m'\u001b[39m\u001b[33m'\u001b[39m)\n\u001b[32m      6\u001b[39m )\n",
      "\u001b[31mAttributeError\u001b[39m: 'tuple' object has no attribute 'plot'"
     ]
    }
   ],
   "source": [
    "(\n",
    "    interior_discharge\n",
    "    .plot(\n",
    "        xlabel='',\n",
    "        ylabel='',\n",
    "        title='')\n",
    ")"
   ]
  }
 ],
 "metadata": {
  "kernelspec": {
   "display_name": "base",
   "language": "python",
   "name": "python3"
  },
  "language_info": {
   "codemirror_mode": {
    "name": "ipython",
    "version": 3
   },
   "file_extension": ".py",
   "mimetype": "text/x-python",
   "name": "python",
   "nbconvert_exporter": "python",
   "pygments_lexer": "ipython3",
   "version": "3.11.6"
  }
 },
 "nbformat": 4,
 "nbformat_minor": 5
}
